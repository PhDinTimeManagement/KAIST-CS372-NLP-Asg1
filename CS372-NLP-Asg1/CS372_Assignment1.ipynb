{
  "cells": [
    {
      "cell_type": "markdown",
      "metadata": {
        "id": "KLUrb_dUtOti"
      },
      "source": [
        "## Submission Instructions\n",
        "\n",
        "You must submit two materials for HW1 on KLMS **by March 28 at 23:59:59**, with penalty for late submission only over two days \\(-20%, -40%\\).\n",
        "\n",
        "<br>\n",
        "\n",
        "### A. ```.ipynb``` file containing your Python code\n",
        "\n",
        "- Provide your code below each problem. After completing each problem, make sure to **run the code and print the results**. Your submitted code must be executable.\n",
        "- You are allowed to use more than one code block per problem.\n",
        "\n",
        "### B. Report\n",
        "\n",
        "- Submit a report that describes the process and results of solving each problem (either with screenshots or text).\n",
        "- There is no page limit, but the report must be in PDF format.\n",
        "- Avoid unnecessary explanations for simple problems, but make sure to include essential details on how you solved each problem.\n",
        "- The report must be written **in English only**. Other languages are not allowed.\n",
        "\n",
        "### C. File Naming Convention\n",
        "Your file names must follow the format:\n",
        "- ```CS372_HW1_{studentID}.ipynb```\n",
        "- ```CS372_HW1_{studentID}.pdf```\n",
        "\n",
        "<br>\n",
        "\n",
        "Any form of plagiarism will be penalized.\n",
        "\n",
        "If you have any questions, please use the KLMS Q&A board or contact cs372@nlp.kaist.ac.kr."
      ]
    },
    {
      "cell_type": "markdown",
      "metadata": {
        "id": "8hlkhnEhvktT"
      },
      "source": [
        "## Example of Using Colab\n",
        "\n",
        "To use Colab, write your code in a code box and click the play button on the left to execute it. Below is a simple code -- click the play button to see how it prints the results.\n",
        "\n",
        "You can also add code cells or text by clicking ```+code``` or ```+text``` between blocks.\n",
        "\n",
        "Feel free to modify the code below to get familiar with Colab.\n",
        "\n",
        "The execution order of code cells may affect subsequent code, so make sure that different problems do not interfere with each other."
      ]
    },
    {
      "cell_type": "code",
      "execution_count": null,
      "metadata": {
        "id": "rySKo_EqwaBK"
      },
      "outputs": [],
      "source": [
        "a = [1, 2, 3, 4, 5]\n",
        "a[0]"
      ]
    },
    {
      "cell_type": "markdown",
      "metadata": {
        "id": "zY8QMl-pwgt6"
      },
      "source": [
        "## Environment Setting\n",
        "\n",
        "The downloads and imports below are baseline settings for the assignment. Once you are connected to the server, you must download these files; otherwise, you may encounter errors such as \"Resource words not found.\"\n",
        "\n",
        "If you need additional libraries or packages for solving the problems, you are allowed to use them. However, you **must** mention why you used them in your report."
      ]
    },
    {
      "cell_type": "code",
      "execution_count": null,
      "metadata": {
        "id": "zOHN5SI1sXOk"
      },
      "outputs": [],
      "source": [
        "import nltk, re, pprint\n",
        "nltk.download('gutenberg')\n",
        "nltk.download('brown')\n",
        "nltk.download('words')\n",
        "nltk.download('cmudict')\n",
        "nltk.download('wordnet')\n",
        "nltk.download('genesis')\n",
        "nltk.download('inaugural')\n",
        "nltk.download('nps_chat')\n",
        "nltk.download('webtext')\n",
        "nltk.download('treebank')\n",
        "nltk.download('udhr')"
      ]
    },
    {
      "cell_type": "markdown",
      "metadata": {
        "id": "Z3KCI6a6zNKL"
      },
      "source": [
        "For Problems 1, 2 and 3, you need to import ```nltk.book``` as follows:"
      ]
    },
    {
      "cell_type": "code",
      "execution_count": null,
      "metadata": {
        "id": "U3Zky5UrzaLD"
      },
      "outputs": [],
      "source": [
        "from nltk.book import *"
      ]
    },
    {
      "cell_type": "code",
      "execution_count": null,
      "metadata": {
        "id": "ysAQ9h2qzplD"
      },
      "outputs": [],
      "source": [
        "sent1"
      ]
    },
    {
      "cell_type": "code",
      "execution_count": null,
      "metadata": {
        "id": "iBlLCtJVztPj"
      },
      "outputs": [],
      "source": [
        "text1"
      ]
    },
    {
      "cell_type": "markdown",
      "source": [
        "## Problems"
      ],
      "metadata": {
        "id": "tJwaKaxhPYYj"
      }
    },
    {
      "cell_type": "markdown",
      "metadata": {
        "id": "I87Lrsrtz3YM"
      },
      "source": [
        "### Problem 1 (2 points)\n",
        "\n",
        "\n",
        "Write a Python code that prints out a sorted list of unique words \\(excluding special characters\\) from the sentences ```sent1```, ```sent2```, ..., ```sent9``` combined, using list addition and sorted() operations. Additionally, print the size of the sorted list of unique words.\n"
      ]
    },
    {
      "cell_type": "code",
      "execution_count": null,
      "metadata": {
        "id": "86SnMxZyz85l"
      },
      "outputs": [],
      "source": [
        "# Problem 1\n"
      ]
    },
    {
      "cell_type": "markdown",
      "metadata": {
        "id": "H3fxRCWSz6Ob"
      },
      "source": [
        "### Problem 2 (2 points)\n",
        "\n",
        "Write a Python code that extracts the last two words of ```text2``` using the slice expression.\n"
      ]
    },
    {
      "cell_type": "code",
      "execution_count": null,
      "metadata": {
        "id": "L2WRhN3t0EEd"
      },
      "outputs": [],
      "source": [
        "# Problem 2\n"
      ]
    },
    {
      "cell_type": "markdown",
      "metadata": {
        "id": "ReMNzsql0G6T"
      },
      "source": [
        "### Problem 3 (4 points)\n",
        "\n",
        "Define a Python function called ```vocab_size(text)``` that takes a single parameter for the text and returns the vocabulary \\(excluding special characters\\) size of the input text. As input, use a list of words that concatenates ```sent1```, ```sent2```, ..., ```sent9```.\n",
        "\n",
        "Report the result of the function for two cases:\n",
        "- The result when the function is applied to the input data in its original state.\n",
        "- The result when the function is applied to the input data after changing all words to lowercase.\n"
      ]
    },
    {
      "cell_type": "code",
      "execution_count": null,
      "metadata": {
        "id": "jXki8mjq0WEa"
      },
      "outputs": [],
      "source": [
        "# Problem 3\n"
      ]
    },
    {
      "cell_type": "markdown",
      "metadata": {
        "id": "QZOsuVpz0aDk"
      },
      "source": [
        "### Problem 4 (4 points)\n",
        "\n",
        "Assume that the following list of words is given:\n",
        "\n",
        "`['chair', 'teacher', 'chapter', 'echo', 'cider', 'china', 'camera', 'character', 'beach', 'approach']`\n",
        "\n",
        "Write a Python code to perform the following tasks:\n",
        "\n",
        "a. Print all words that begins with ```\"ch\"```. (2 points)\n",
        "\n",
        "b. Print all words that are longer than four characters. (2 points)\n"
      ]
    },
    {
      "cell_type": "code",
      "execution_count": null,
      "metadata": {
        "id": "FaW534DP0jxz"
      },
      "outputs": [],
      "source": [
        "# Problem 4\n",
        "word_list = ['chair', 'teacher', 'chapter', 'echo', 'cider', 'china', 'camera', 'character', 'beach', 'approach']\n"
      ]
    },
    {
      "cell_type": "markdown",
      "metadata": {
        "id": "dOUi8BqB08CE"
      },
      "source": [
        "### Problem 5 (3 points)\n",
        "\n",
        "We want to identify special bigrams that occur in the same sentence, with exactly two words between them. For example, in the sentence \"Success comes to those who work.\", the following three special bigram pairs are considered special:\n",
        "- \\(```Success```, ```those```\\)\n",
        "- \\(```comes```, ```who```\\)\n",
        "- \\(```to```, ```work```\\)\n",
        "\n",
        "Find the 10 most frequent special bigrams in the News category of the Brown Corpus and show the results.\n"
      ]
    },
    {
      "cell_type": "code",
      "execution_count": null,
      "metadata": {
        "id": "-Nqx3_tx07jE"
      },
      "outputs": [],
      "source": [
        "# Problem 5\n"
      ]
    },
    {
      "cell_type": "markdown",
      "metadata": {
        "id": "z2MHKTnN1Eld"
      },
      "source": [
        "### Problem 6 (3 points)\n",
        "\n",
        "Show how many words in the Gutenberg shakespeare-macbeth corpus have two or more pronunciations according to the CMU Pronouncing Dictionary. Additionally, show the list of words with the most diverse pronunciations.\n"
      ]
    },
    {
      "cell_type": "code",
      "execution_count": null,
      "metadata": {
        "id": "Fkj9fJYW1DzD"
      },
      "outputs": [],
      "source": [
        "# Problem 6\n"
      ]
    },
    {
      "cell_type": "markdown",
      "metadata": {
        "id": "ecuw59je1I6D"
      },
      "source": [
        "### Problem 7 (4 points)\n",
        "\n",
        "\n",
        "Provide a brief explanation for each of the following questions.\n",
        "\n",
        "a. Retrieve all noun synsets for ```duck``` from WordNet. For each synset, print all hypernyms and the lemma names of those hypernyms. (2 points)\n",
        "\n",
        "b. Using ```wn.all_synsets('v')```, write a Python code that prints 5 random lemmas from the first 10 verb synsets. (The output lemma will be in the format: ```Lemma('run.v.02.run')```) (2 points)\n"
      ]
    },
    {
      "cell_type": "code",
      "execution_count": null,
      "metadata": {
        "id": "U1wt6adZ1YWk"
      },
      "outputs": [],
      "source": [
        "# Problem 7\n",
        "import random\n",
        "random.seed(42)"
      ]
    },
    {
      "cell_type": "markdown",
      "metadata": {
        "id": "_FvQLJEM1aI8"
      },
      "source": [
        "### Problem 8 (3 points)\n",
        "\n",
        "Describe the class of strings that match each of the following regular expressions.\n",
        "1.\t[a-zA]+\n",
        "2.\t[a-z][A-Z]*[a-z]\n",
        "3.\t[BCLT]r[aeiou]{,2}t[a-z]\n",
        "4.\t([aeiou][^aeiou])*\n",
        "5.\t\\W+|[^\\W\\s]+\n",
        "\n",
        "You can test your answers using ```nltk.re_show()```.\n",
        "Your answers should be included in the report.\n"
      ]
    },
    {
      "cell_type": "code",
      "execution_count": null,
      "metadata": {
        "id": "rrkrUCOV1iQ8"
      },
      "outputs": [],
      "source": [
        "# Problem 8\n"
      ]
    },
    {
      "cell_type": "markdown",
      "metadata": {
        "id": "nNet6GaG10Gk"
      },
      "source": [
        "### Problem 9 (5 points)\n",
        "\n",
        "Pig Latin is a simple transformation of English text. Each word is converted as follows:\n",
        "- Move all consonant (or consonant cluster) at the start of a word to the end.\n",
        "- Append ```ay``` to the word.\n",
        "- Example:\n",
        "  - ```string``` → ```ingstray```\n",
        "  - ```language``` → ```anguagelay```\n",
        "  - ```idle``` → ```idleay```\n",
        "  - For more details, refer to http://en.wikipedia.org/wiki/Pig_Latin.\n",
        "\n",
        "This time, we will modify the Pig Latin rules:\n",
        "- After moving the consonant(s) of the word, change the first vowel in the word:\n",
        "    - ```a``` → ```e```\n",
        "    - ```e``` → ```i```\n",
        "    - ```i``` → ```o```\n",
        "    - ```o``` → ```u```\n",
        "    - ```u``` → ```a```\n",
        "- Append ```ay``` to the word.\n",
        "- Example:\n",
        "    - ```string``` → ```ongstray```\n",
        "    - ```idle``` → ```odleay```\n",
        "\n",
        "a. Write a Python function to convert a word into its equivalent in the modified Pig Latin. (3 points)\n",
        "\n",
        "b. Write a Python code that converts an entire text (a sequence of words), instead of just individual words.  (1 point)"
      ]
    },
    {
      "cell_type": "code",
      "execution_count": null,
      "metadata": {
        "id": "irIbiO6U19Mc"
      },
      "outputs": [],
      "source": [
        "# Problem 9\n"
      ]
    },
    {
      "cell_type": "markdown",
      "metadata": {
        "id": "j9tST3r52Dhk"
      },
      "source": [
        "### Problem 10 (4 points)\n",
        "\n",
        "Using a multilingual corpus such as the Universal Declaration of Human Rights Corpus (```nltk.corpus.udhr```), along with NLTK’s frequency distribution (```nltk.FreqDist```), develop a system that guesses the language of a previously unseen text.\n",
        "\n",
        "You can estimate the language of the unseen text by comparing:\n",
        "- How often each word appears in each language of the corpus\n",
        "- How often each word appears in the unseen text.\n",
        "\n",
        "To achieve this, use rank correlation (```nltk.spearman_correlation```).\n",
        "\n",
        "For simplicity, you can work at the character level rather than the word level and choose languages (at least two) of your choice.\n"
      ]
    },
    {
      "cell_type": "code",
      "execution_count": null,
      "metadata": {
        "id": "HPyeLRM_2BKk"
      },
      "outputs": [],
      "source": [
        "# Problem 10\n",
        "from nltk.metrics.spearman import spearman_correlation\n",
        "\n",
        "unseen_text = \"You never really understand a person until you consider things from his point of view… Until you climb inside of his skin and walk around in it.\" # example"
      ]
    },
    {
      "cell_type": "markdown",
      "metadata": {
        "id": "pNwK-R-Z2Nnt"
      },
      "source": [
        "### Problem 11 (6 points)\n",
        "\n",
        "Write a Python program that processes a text and discovers cases where a word is used with a novel sense.\n",
        "\n",
        "One simple approach is using WordNet:\n",
        "For each word, compute the WordNet similarity between all synsets of the word and all synsets of the words in its context.\n",
        "\n",
        "Note: this is a crude approach. Also, it is important to mention that implementing this effectively is a difficult, open research problem.\n",
        "\n",
        "Define what a “novel sense” of the word is in your own words, and describe the detailed design choice you made for your implementation.\n"
      ]
    },
    {
      "cell_type": "code",
      "execution_count": null,
      "metadata": {
        "id": "ZY2Xrs2j2UON"
      },
      "outputs": [],
      "source": [
        "# Problem 11\n"
      ]
    }
  ],
  "metadata": {
    "colab": {
      "provenance": []
    },
    "kernelspec": {
      "display_name": "Python 3",
      "language": "python",
      "name": "python3"
    },
    "language_info": {
      "codemirror_mode": {
        "name": "ipython",
        "version": 3
      },
      "file_extension": ".py",
      "mimetype": "text/x-python",
      "name": "python",
      "nbconvert_exporter": "python",
      "pygments_lexer": "ipython3",
      "version": "3.8.5"
    }
  },
  "nbformat": 4,
  "nbformat_minor": 0
}